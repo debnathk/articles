{
 "cells": [
  {
   "cell_type": "markdown",
   "metadata": {},
   "source": [
    "# Demonstration of DeepPurpose for Drug-Target Prediction"
   ]
  },
  {
   "cell_type": "code",
   "execution_count": 5,
   "metadata": {},
   "outputs": [
    {
     "name": "stderr",
     "output_type": "stream",
     "text": [
      "Unable to make new descriptors, descriptor generator requirements not properly installed\n",
      "Traceback (most recent call last):\n",
      "  File \"/home/debnathk/.local/lib/python3.10/site-packages/descriptastorus/DescriptaStore.py\", line 42, in <module>\n",
      "    from .descriptors import MakeGenerator\n",
      "  File \"/home/debnathk/.local/lib/python3.10/site-packages/descriptastorus/descriptors/__init__.py\", line 3, in <module>\n",
      "    from .rdNormalizedDescriptors import *\n",
      "  File \"/home/debnathk/.local/lib/python3.10/site-packages/descriptastorus/descriptors/rdNormalizedDescriptors.py\", line 56, in <module>\n",
      "    dist = getattr(st, dist)\n",
      "AttributeError: module 'scipy.stats' has no attribute 'gibrat'. Did you mean: 'gilbrat'?\n"
     ]
    },
    {
     "ename": "ImportError",
     "evalue": "Please install pip install git+https://github.com/bp-kelley/descriptastorus and pip install pandas-flavor",
     "output_type": "error",
     "traceback": [
      "\u001b[0;31m---------------------------------------------------------------------------\u001b[0m",
      "\u001b[0;31mAttributeError\u001b[0m                            Traceback (most recent call last)",
      "File \u001b[0;32m~/.local/lib/python3.10/site-packages/DeepPurpose/utils.py:15\u001b[0m\n\u001b[1;32m     14\u001b[0m \u001b[38;5;28;01mtry\u001b[39;00m:\n\u001b[0;32m---> 15\u001b[0m \t\u001b[38;5;28;01mfrom\u001b[39;00m \u001b[38;5;21;01mdescriptastorus\u001b[39;00m\u001b[38;5;21;01m.\u001b[39;00m\u001b[38;5;21;01mdescriptors\u001b[39;00m \u001b[38;5;28;01mimport\u001b[39;00m rdDescriptors, rdNormalizedDescriptors\n\u001b[1;32m     16\u001b[0m \u001b[38;5;28;01mexcept\u001b[39;00m:\n",
      "File \u001b[0;32m~/.local/lib/python3.10/site-packages/descriptastorus/descriptors/__init__.py:3\u001b[0m\n\u001b[1;32m      2\u001b[0m \u001b[38;5;28;01mfrom\u001b[39;00m \u001b[38;5;21;01m.\u001b[39;00m\u001b[38;5;21;01mrdDescriptors\u001b[39;00m \u001b[38;5;28;01mimport\u001b[39;00m \u001b[38;5;241m*\u001b[39m\n\u001b[0;32m----> 3\u001b[0m \u001b[38;5;28;01mfrom\u001b[39;00m \u001b[38;5;21;01m.\u001b[39;00m\u001b[38;5;21;01mrdNormalizedDescriptors\u001b[39;00m \u001b[38;5;28;01mimport\u001b[39;00m \u001b[38;5;241m*\u001b[39m\n",
      "File \u001b[0;32m~/.local/lib/python3.10/site-packages/descriptastorus/descriptors/rdNormalizedDescriptors.py:56\u001b[0m\n\u001b[1;32m     54\u001b[0m         dist \u001b[38;5;241m=\u001b[39m \u001b[38;5;124m'\u001b[39m\u001b[38;5;124mgibrat\u001b[39m\u001b[38;5;124m'\u001b[39m\n\u001b[0;32m---> 56\u001b[0m dist \u001b[38;5;241m=\u001b[39m \u001b[38;5;28;43mgetattr\u001b[39;49m\u001b[43m(\u001b[49m\u001b[43mst\u001b[49m\u001b[43m,\u001b[49m\u001b[43m \u001b[49m\u001b[43mdist\u001b[49m\u001b[43m)\u001b[49m\n\u001b[1;32m     59\u001b[0m \u001b[38;5;66;03m# make the cdf with the parameters\u001b[39;00m\n",
      "\u001b[0;31mAttributeError\u001b[0m: module 'scipy.stats' has no attribute 'gibrat'",
      "\nDuring handling of the above exception, another exception occurred:\n",
      "\u001b[0;31mImportError\u001b[0m                               Traceback (most recent call last)",
      "Cell \u001b[0;32mIn[5], line 4\u001b[0m\n\u001b[1;32m      1\u001b[0m \u001b[38;5;66;03m# %pip install DeepPurpose\u001b[39;00m\n\u001b[1;32m      2\u001b[0m \u001b[38;5;66;03m# %pip install git+https://github.com/bp-kelley/descriptastorus\u001b[39;00m\n\u001b[1;32m      3\u001b[0m \u001b[38;5;66;03m# %pip install pandas-flavor\u001b[39;00m\n\u001b[0;32m----> 4\u001b[0m \u001b[38;5;28;01mfrom\u001b[39;00m \u001b[38;5;21;01mDeepPurpose\u001b[39;00m \u001b[38;5;28;01mimport\u001b[39;00m DTI\n\u001b[1;32m      5\u001b[0m \u001b[38;5;28;01mfrom\u001b[39;00m \u001b[38;5;21;01mDeepPurpose\u001b[39;00m\u001b[38;5;21;01m.\u001b[39;00m\u001b[38;5;21;01mutils\u001b[39;00m \u001b[38;5;28;01mimport\u001b[39;00m \u001b[38;5;241m*\u001b[39m\n\u001b[1;32m      6\u001b[0m \u001b[38;5;28;01mfrom\u001b[39;00m \u001b[38;5;21;01mDeepPurpose\u001b[39;00m\u001b[38;5;21;01m.\u001b[39;00m\u001b[38;5;21;01mdataset\u001b[39;00m \u001b[38;5;28;01mimport\u001b[39;00m \u001b[38;5;241m*\u001b[39m\n",
      "File \u001b[0;32m~/.local/lib/python3.10/site-packages/DeepPurpose/DTI.py:24\u001b[0m\n\u001b[1;32m     20\u001b[0m \u001b[38;5;28;01mfrom\u001b[39;00m \u001b[38;5;21;01mprettytable\u001b[39;00m \u001b[38;5;28;01mimport\u001b[39;00m PrettyTable\n\u001b[1;32m     22\u001b[0m \u001b[38;5;28;01mimport\u001b[39;00m \u001b[38;5;21;01mos\u001b[39;00m\n\u001b[0;32m---> 24\u001b[0m \u001b[38;5;28;01mfrom\u001b[39;00m \u001b[38;5;21;01mDeepPurpose\u001b[39;00m\u001b[38;5;21;01m.\u001b[39;00m\u001b[38;5;21;01mutils\u001b[39;00m \u001b[38;5;28;01mimport\u001b[39;00m \u001b[38;5;241m*\u001b[39m\n\u001b[1;32m     25\u001b[0m \u001b[38;5;28;01mfrom\u001b[39;00m \u001b[38;5;21;01mDeepPurpose\u001b[39;00m\u001b[38;5;21;01m.\u001b[39;00m\u001b[38;5;21;01mmodel_helper\u001b[39;00m \u001b[38;5;28;01mimport\u001b[39;00m Encoder_MultipleLayers, Embeddings        \n\u001b[1;32m     26\u001b[0m \u001b[38;5;28;01mfrom\u001b[39;00m \u001b[38;5;21;01mDeepPurpose\u001b[39;00m\u001b[38;5;21;01m.\u001b[39;00m\u001b[38;5;21;01mencoders\u001b[39;00m \u001b[38;5;28;01mimport\u001b[39;00m \u001b[38;5;241m*\u001b[39m\n",
      "File \u001b[0;32m~/.local/lib/python3.10/site-packages/DeepPurpose/utils.py:17\u001b[0m\n\u001b[1;32m     15\u001b[0m \t\u001b[38;5;28;01mfrom\u001b[39;00m \u001b[38;5;21;01mdescriptastorus\u001b[39;00m\u001b[38;5;21;01m.\u001b[39;00m\u001b[38;5;21;01mdescriptors\u001b[39;00m \u001b[38;5;28;01mimport\u001b[39;00m rdDescriptors, rdNormalizedDescriptors\n\u001b[1;32m     16\u001b[0m \u001b[38;5;28;01mexcept\u001b[39;00m:\n\u001b[0;32m---> 17\u001b[0m \t\u001b[38;5;28;01mraise\u001b[39;00m \u001b[38;5;167;01mImportError\u001b[39;00m(\u001b[38;5;124m\"\u001b[39m\u001b[38;5;124mPlease install pip install git+https://github.com/bp-kelley/descriptastorus and pip install pandas-flavor\u001b[39m\u001b[38;5;124m\"\u001b[39m)\n\u001b[1;32m     18\u001b[0m \u001b[38;5;28;01mfrom\u001b[39;00m \u001b[38;5;21;01mDeepPurpose\u001b[39;00m\u001b[38;5;21;01m.\u001b[39;00m\u001b[38;5;21;01mchemutils\u001b[39;00m \u001b[38;5;28;01mimport\u001b[39;00m get_mol, atom_features, bond_features, MAX_NB, ATOM_FDIM, BOND_FDIM\n\u001b[1;32m     19\u001b[0m \u001b[38;5;28;01mfrom\u001b[39;00m \u001b[38;5;21;01msubword_nmt\u001b[39;00m\u001b[38;5;21;01m.\u001b[39;00m\u001b[38;5;21;01mapply_bpe\u001b[39;00m \u001b[38;5;28;01mimport\u001b[39;00m BPE\n",
      "\u001b[0;31mImportError\u001b[0m: Please install pip install git+https://github.com/bp-kelley/descriptastorus and pip install pandas-flavor"
     ]
    }
   ],
   "source": [
    "# %pip install DeepPurpose\n",
    "# %pip install git+https://github.com/bp-kelley/descriptastorus\n",
    "# %pip install pandas-flavor\n",
    "from DeepPurpose import DTI\n",
    "from DeepPurpose.utils import *\n",
    "from DeepPurpose.dataset import *"
   ]
  },
  {
   "cell_type": "code",
   "execution_count": 4,
   "metadata": {},
   "outputs": [
    {
     "name": "stdout",
     "output_type": "stream",
     "text": [
      "Defaulting to user installation because normal site-packages is not writeable\n",
      "Requirement already satisfied: pandas-flavor in /home/debnathk/.local/lib/python3.10/site-packages (0.6.0)\n",
      "Requirement already satisfied: pandas>=0.23 in /home/debnathk/.local/lib/python3.10/site-packages (from pandas-flavor) (2.1.2)\n",
      "Requirement already satisfied: xarray in /home/debnathk/.local/lib/python3.10/site-packages (from pandas-flavor) (2024.1.0)\n",
      "Requirement already satisfied: numpy<2,>=1.22.4 in /home/debnathk/.local/lib/python3.10/site-packages (from pandas>=0.23->pandas-flavor) (1.24.4)\n",
      "Requirement already satisfied: python-dateutil>=2.8.2 in /home/debnathk/.local/lib/python3.10/site-packages (from pandas>=0.23->pandas-flavor) (2.8.2)\n",
      "Requirement already satisfied: pytz>=2020.1 in /home/debnathk/.local/lib/python3.10/site-packages (from pandas>=0.23->pandas-flavor) (2023.3.post1)\n",
      "Requirement already satisfied: tzdata>=2022.1 in /home/debnathk/.local/lib/python3.10/site-packages (from pandas>=0.23->pandas-flavor) (2023.3)\n",
      "Requirement already satisfied: packaging>=22 in /home/debnathk/.local/lib/python3.10/site-packages (from xarray->pandas-flavor) (23.2)\n",
      "Requirement already satisfied: six>=1.5 in /home/debnathk/.local/lib/python3.10/site-packages (from python-dateutil>=2.8.2->pandas>=0.23->pandas-flavor) (1.16.0)\n",
      "\n",
      "\u001b[1m[\u001b[0m\u001b[34;49mnotice\u001b[0m\u001b[1;39;49m]\u001b[0m\u001b[39;49m A new release of pip is available: \u001b[0m\u001b[31;49m23.3.1\u001b[0m\u001b[39;49m -> \u001b[0m\u001b[32;49m23.3.2\u001b[0m\n",
      "\u001b[1m[\u001b[0m\u001b[34;49mnotice\u001b[0m\u001b[1;39;49m]\u001b[0m\u001b[39;49m To update, run: \u001b[0m\u001b[32;49mpip install --upgrade pip\u001b[0m\n",
      "Note: you may need to restart the kernel to use updated packages.\n"
     ]
    }
   ],
   "source": []
  }
 ],
 "metadata": {
  "kernelspec": {
   "display_name": "Python 3",
   "language": "python",
   "name": "python3"
  },
  "language_info": {
   "codemirror_mode": {
    "name": "ipython",
    "version": 3
   },
   "file_extension": ".py",
   "mimetype": "text/x-python",
   "name": "python",
   "nbconvert_exporter": "python",
   "pygments_lexer": "ipython3",
   "version": "3.10.5"
  }
 },
 "nbformat": 4,
 "nbformat_minor": 2
}
